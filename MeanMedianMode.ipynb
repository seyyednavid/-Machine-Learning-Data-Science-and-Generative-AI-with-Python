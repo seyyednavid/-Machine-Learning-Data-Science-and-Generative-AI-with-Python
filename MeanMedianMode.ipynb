{
 "cells": [
  {
   "cell_type": "markdown",
   "metadata": {},
   "source": [
    "# Mean, Median, Mode, and introducing NumPy"
   ]
  },
  {
   "cell_type": "markdown",
   "metadata": {},
   "source": [
    "## Mean vs. Median"
   ]
  },
  {
   "cell_type": "markdown",
   "metadata": {},
   "source": [
    "Let's create some fake income data, centered around 27,000 with a normal distribution and standard deviation of 15,000, with 10,000 data points. (We'll discuss those terms more later, if you're not familiar with them.)\n",
    "\n",
    "Then, compute the mean (average) - it should be close to 27,000:"
   ]
  },
  {
   "cell_type": "code",
   "execution_count": 3,
   "metadata": {},
   "outputs": [
    {
     "data": {
      "text/plain": [
       "27169.971653766035"
      ]
     },
     "execution_count": 3,
     "metadata": {},
     "output_type": "execute_result"
    }
   ],
   "source": [
    "import numpy as np\n",
    "\n",
    "incomes = np.random.normal(27000, 15000, 10000)\n",
    "np.mean(incomes)"
   ]
  },
  {
   "cell_type": "markdown",
   "metadata": {},
   "source": [
    "We can segment the income data into 50 buckets, and plot it as a histogram:"
   ]
  },
  {
   "cell_type": "code",
   "execution_count": 4,
   "metadata": {},
   "outputs": [
    {
     "data": {
      "image/png": "[encoded data removed]",
      "text/plain": [
       "<Figure size 640x480 with 1 Axes>"
      ]
     },
     "metadata": {},
     "output_type": "display_data"
    }
   ],
   "source": [
    "%matplotlib inline\n",
    "import matplotlib.pyplot as plt\n",
    "plt.hist(incomes, 50)\n",
    "plt.show()"
   ]
  },
  {
   "cell_type": "markdown",
   "metadata": {},
   "source": [
    "Now compute the median - since we have a nice, even distribution it too should be close to 27,000:"
   ]
  },
  {
   "cell_type": "code",
   "execution_count": 5,
   "metadata": {},
   "outputs": [
    {
     "data": {
      "text/plain": [
       "27054.217790206043"
      ]
     },
     "execution_count": 5,
     "metadata": {},
     "output_type": "execute_result"
    }
   ],
   "source": [
    "np.median(incomes)"
   ]
  },
  {
   "cell_type": "markdown",
   "metadata": {},
   "source": [
    "Now we'll add Jeff Bezos into the mix. Darn income inequality!"
   ]
  },
  {
   "cell_type": "code",
   "execution_count": 6,
   "metadata": {},
   "outputs": [],
   "source": [
    "incomes = np.append(incomes, [1000000000])"
   ]
  },
  {
   "cell_type": "markdown",
   "metadata": {},
   "source": [
    "The median won't change much, but the mean does:"
   ]
  },
  {
   "cell_type": "code",
   "execution_count": 7,
   "metadata": {},
   "outputs": [
    {
     "data": {
      "text/plain": [
       "27055.93995288195"
      ]
     },
     "execution_count": 7,
     "metadata": {},
     "output_type": "execute_result"
    }
   ],
   "source": [
    "np.median(incomes)"
   ]
  },
  {
   "cell_type": "code",
   "execution_count": 8,
   "metadata": {},
   "outputs": [
    {
     "data": {
      "text/plain": [
       "127157.25592817324"
      ]
     },
     "execution_count": 8,
     "metadata": {},
     "output_type": "execute_result"
    }
   ],
   "source": [
    "np.mean(incomes)"
   ]
  },
  {
   "cell_type": "markdown",
   "metadata": {},
   "source": [
    "## Mode"
   ]
  },
  {
   "cell_type": "markdown",
   "metadata": {},
   "source": [
    "Next, let's generate some fake age data for 500 people:"
   ]
  },
  {
   "cell_type": "code",
   "execution_count": 13,
   "metadata": {},
   "outputs": [
    {
     "data": {
      "text/plain": [
       "array([37, 64, 65, 48, 84, 68, 67, 33, 86, 55, 71, 25, 56, 72, 81, 79, 49,\n",
       "       59, 83, 66, 85, 18, 53, 39, 47, 63, 82, 58, 50, 78, 44, 49, 74, 44,\n",
       "       74, 30, 38, 40, 60, 47, 28, 29, 28, 86, 19, 86, 39, 23, 44, 20, 29,\n",
       "       19, 22, 57, 82, 47, 75, 77, 47, 64, 82, 53, 78, 52, 40, 71, 43, 70,\n",
       "       79, 19, 85, 86, 25, 76, 27, 58, 62, 68, 36, 44, 89, 59, 79, 82, 38,\n",
       "       57, 76, 47, 20, 41, 87, 84, 56, 18, 53, 57, 62, 35, 70, 59, 47, 75,\n",
       "       53, 52, 20, 72, 55, 80, 84, 20, 85, 89, 63, 89, 63, 62, 88, 71, 76,\n",
       "       68, 33, 68, 45, 44, 52, 21, 63, 37, 80, 46, 83, 27, 82, 65, 27, 30,\n",
       "       63, 64, 24, 54, 66, 42, 52, 49, 57, 47, 65, 45, 23, 51, 62, 24, 28,\n",
       "       57, 30, 79, 70, 40, 43, 18, 42, 23, 59, 65, 64, 50, 63, 69, 30, 38,\n",
       "       82, 22, 57, 74, 24, 66, 47, 62, 32, 88, 43, 83, 71, 84, 43, 45, 39,\n",
       "       66, 28, 30, 49, 28, 27, 31, 20, 22, 36, 68, 37, 57, 59, 32, 83, 79,\n",
       "       18, 49, 59, 77, 67, 25, 34, 54, 34, 30, 37, 63, 77, 89, 81, 28, 30,\n",
       "       72, 18, 58, 75, 52, 23, 89, 54, 84, 52, 68, 46, 42, 78, 36, 46, 77,\n",
       "       58, 71, 71, 40, 55, 41, 69, 55, 52, 69, 79, 18, 49, 63, 54, 44, 19,\n",
       "       74, 20, 24, 60, 65, 86, 56, 28, 45, 39, 78, 51, 88, 55, 31, 45, 73,\n",
       "       44, 76, 88, 79, 55, 35, 62, 56, 88, 52, 29, 69, 43, 28, 39, 41, 72,\n",
       "       24, 23, 26, 77, 82, 24, 34, 63, 68, 81, 24, 23, 37, 64, 36, 59, 81,\n",
       "       21, 54, 42, 23, 19, 67, 80, 60, 79, 55, 77, 60, 44, 39, 60, 87, 45,\n",
       "       83, 87, 86, 81, 39, 57, 66, 26, 70, 74, 72, 64, 76, 68, 61, 39, 78,\n",
       "       26, 86, 29, 34, 32, 79, 57, 47, 46, 68, 46, 46, 59, 25, 68, 40, 55,\n",
       "       61, 67, 48, 79, 74, 86, 52, 38, 70, 47, 39, 19, 57, 31, 50, 21, 75,\n",
       "       44, 51, 54, 37, 48, 55, 89, 64, 53, 24, 68, 50, 72, 80, 30, 81, 73,\n",
       "       48, 47, 20, 70, 55, 57, 26, 83, 85, 21, 61, 69, 28, 44, 77, 33, 84,\n",
       "       39, 29, 51, 47, 59, 44, 51, 46, 55, 25, 39, 40, 63, 27, 54, 78, 19,\n",
       "       71, 32, 70, 33, 37, 60, 54, 50, 36, 72, 60, 52, 35, 52, 67, 18, 61,\n",
       "       32, 52, 34, 44, 43, 20, 85, 26, 26, 46, 53, 46, 23, 82, 23, 23, 82,\n",
       "       79, 87, 48, 47, 58, 21, 37, 68, 54, 85, 87, 18, 70, 28, 62, 76, 35,\n",
       "       47, 39, 28, 41, 60, 50, 53, 64, 46, 45, 28, 36, 28, 73, 34, 82, 24,\n",
       "       34, 47, 18, 59, 88, 41, 54])"
      ]
     },
     "execution_count": 13,
     "metadata": {},
     "output_type": "execute_result"
    }
   ],
   "source": [
    "ages = np.random.randint(18, 90, 500)\n",
    "ages"
   ]
  },
  {
   "cell_type": "code",
   "execution_count": 14,
   "metadata": {},
   "outputs": [
    {
     "data": {
      "text/plain": [
       "ModeResult(mode=47, count=15)"
      ]
     },
     "execution_count": 14,
     "metadata": {},
     "output_type": "execute_result"
    }
   ],
   "source": [
    "from scipy import stats\n",
    "stats.mode(ages)"
   ]
  },
  {
   "cell_type": "code",
   "execution_count": null,
   "metadata": {},
   "outputs": [],
   "source": []
  }
 ],
 "metadata": {
  "kernelspec": {
   "display_name": "Python 3 (ipykernel)",
   "language": "python",
   "name": "python3"
  },
  "language_info": {
   "codemirror_mode": {
    "name": "ipython",
    "version": 3
   },
   "file_extension": ".py",
   "mimetype": "text/x-python",
   "name": "python",
   "nbconvert_exporter": "python",
   "pygments_lexer": "ipython3",
   "version": "3.12.7"
  }
 },
 "nbformat": 4,
 "nbformat_minor": 4
}
